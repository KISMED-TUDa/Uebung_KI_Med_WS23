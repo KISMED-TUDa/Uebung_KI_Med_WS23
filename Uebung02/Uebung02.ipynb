{
  "nbformat": 4,
  "nbformat_minor": 0,
  "metadata": {
    "colab": {
      "provenance": [],
      "collapsed_sections": []
    },
    "kernelspec": {
      "name": "python3",
      "display_name": "Python 3"
    },
    "language_info": {
      "name": "python"
    }
  },
  "cells": [
    {
      "cell_type": "markdown",
      "metadata": {
        "id": "ce-c-SfEfB1p"
      },
      "source": [
        "# Daten"
      ]
    },
    {
      "cell_type": "markdown",
      "metadata": {
        "id": "HdY1e9N1YrBz"
      },
      "source": [
        "## Datensätze und -quellen\n",
        "In der letzten Übung haben Sie die Grundlagen von Python kennen gelernt und erste Analysen an einem Datensatz vorgenommen. Heute wollen wir darauf aufbauen und uns mehr mit medizinischen Daten auseinandersetzen. Der Datensatz von letzter Woche war von [Kaggle](https://www.kaggle.com/datasets). Kaggle bietet eine der größten öffentlichen Sammlungen von Datensätzen zu allen möglichen Themen und richtet sich explizit an Data Scientists und KI-Forscher. Das Unternehmen veranstaltet regelmäßig Wettbewerbe, bei denen der beste KI-Ansatz gesucht wird. Seit 2017 gehört Kaggle zu Google. \n",
        "\n",
        "Aus der Vorlesung kennen Sie außerdem bereits [PhysioNet](https://physionet.org/). Recherchieren Sie andere mögliche Datenquellen für Medizinische Daten. Lesen Sie den Datensatz *mystery_dataset_ex2.csv* zur genaueren Betrachtung ein und finden Sie den Datensatz online. Machen Sie sich damit vertraut, was die einzelnen Spalten aussagen."
      ]
    },
    {
      "cell_type": "code",
      "metadata": {
        "id": "5IwPZUiU6o0V"
      },
      "source": [
        "# importieren Sie hier den Datensatz\n",
        "imported_dataset = 0\n",
        "imported_dataset"
      ],
      "execution_count": null,
      "outputs": []
    },
    {
      "cell_type": "markdown",
      "metadata": {
        "id": "rKMG_2np1TSb"
      },
      "source": [
        "## Datenanalyse\n",
        "\n",
        "Ein sehr wichtiger Schritt beim Machine Learning ist die genaue Analyse des Datensatzes. Das gilt insbesondere, wenn Sie ihn nicht selber erhoben haben. Schauen Sie sich zum Beispiel den Zusammenhang zwischen den Spalten *time* und *DEATH_EVENT* an. \n",
        "\n",
        "Tipp: \n",
        "Mit dem Befehl `pd.set_option('display.max_columns',None)` können Sie einstellen, dass die Tabelle die Spaltenanzahl nicht begrenzt. Nutzen Sie das, um sich die relevanten Spalten in Gänze anzuzeigen. Sie müssen die Tabelle dafür transponieren. Wenn Sie danach die ursprüngliche Tabellenformatierung wieder herstellen wollen, empfiehlt es sich, die aktuelle Spaltenanzahl vorher mit `pd.get_option('display.max_columns')` als Variable zu speichern."
      ]
    },
    {
      "cell_type": "code",
      "metadata": {
        "id": "nI2tMrnY3Vg7"
      },
      "source": [
        "# Beziehung zwischen time und DEATH_EVENT:\n"
      ],
      "execution_count": null,
      "outputs": []
    },
    {
      "cell_type": "markdown",
      "metadata": {
        "id": "iHthGn7T3bcH"
      },
      "source": [
        "Was stellen Sie fest? Überprüfen Sie Ihren Verdacht, indem Sie die Korrelation dieser beiden Spalten berechnen."
      ]
    },
    {
      "cell_type": "code",
      "metadata": {
        "id": "F1XXyfZc3iC7"
      },
      "source": [
        "cor_time_death = 0\n",
        "print(\"Korrelation zwischen den Spalten 'time' und 'DEATH_EVENT' beträgt:\\n\", cor_time_death)"
      ],
      "execution_count": null,
      "outputs": []
    },
    {
      "cell_type": "markdown",
      "metadata": {
        "id": "tyVZqQzc9-CC"
      },
      "source": [
        "Wenn Sie die Analyse des Datensatzes etwas strukturierter angehen wollen, stellt Pandas mehrere Befehle zur Verfügung, die Informationen über ein Dataframe liefern: `dataframe.shape`, `dataframe.dtypes`, `dataframe.describe()` und `dataframe.isnull()`. Führen Sie die Befehle aus und machen Sie sich damit vertraut, was sie ausgeben."
      ]
    },
    {
      "cell_type": "code",
      "metadata": {
        "id": "1HT3oGnO_HHR"
      },
      "source": [
        "# Führen Sie die Befehle dataframe.shape, dataframe.dtypes, dataframe.describe() und dataframe.isnull() aus. Um sich mit ihnen vertraut zu machen, können Sie wieder die help()-Funktion nutzen\n"
      ],
      "execution_count": null,
      "outputs": []
    },
    {
      "cell_type": "markdown",
      "metadata": {
        "id": "pwCOD6V8sMcT"
      },
      "source": [
        "Zurück zur Spalte *time*: Das beobachtete Phänomen bezeichnet man als **Data Leakage** und wird in einer späteren Vorlesung nochmal ausführlich behandelt. Für jetzt reicht es, wenn Sie den Datensatz bereinigen, indem Sie die Spalte *time* einfach löschen."
      ]
    },
    {
      "cell_type": "code",
      "metadata": {
        "id": "J6LUhg8IwmDn"
      },
      "source": [
        "# Löschen Sie die Spalte time\n"
      ],
      "execution_count": null,
      "outputs": []
    },
    {
      "cell_type": "markdown",
      "metadata": {
        "id": "EWSIBRjY1BDa"
      },
      "source": [
        "## Einfache Wahrscheinlichkeiten\n",
        "\n",
        "Bestimmen Sie, wie viel Prozent der Patient:innen männlich und wie viel weiblich sind, sowie die Anzahl der Patient:innen, die während der Beobachtungsphase gestorben sind."
      ]
    },
    {
      "cell_type": "code",
      "metadata": {
        "id": "vPDF-jo61OvZ"
      },
      "source": [
        "print('Anteil männlicher Patienten: ', 0)\n",
        "print('Anteil weiblicher Patientinnen: ', 0)\n",
        "print('Anzahl Patient:innen, die gestorben sind: ', 0)"
      ],
      "execution_count": null,
      "outputs": []
    },
    {
      "cell_type": "markdown",
      "metadata": {
        "id": "xC2JqJHD4wSD"
      },
      "source": [
        "Berechnen Sie jetzt, wie wahrscheinlich es ist, dass ein:e Patient:in gestorben ist. Berechnen Sie außerdem, wie wahrscheinlich es ist, dass ein Patient gestorben ist, wenn bekannt ist, dass er männlich war und wie wahrscheinlich es ist, dass eine Patientin gestorben ist, wenn bekannt ist, dass sie weiblich war."
      ]
    },
    {
      "cell_type": "code",
      "metadata": {
        "id": "WWqwV5AR5DeT"
      },
      "source": [
        "print('Wahrscheinlichkeit von Tod:  ', 0)\n",
        "print('Wahrscheinlichkeit von Tod, wenn bekannt dass männlich: ', 0)\n",
        "print('Wahrscheinlichkeit von Tod, wenn bekannt dass weiblich: ', 0)"
      ],
      "execution_count": null,
      "outputs": []
    },
    {
      "cell_type": "markdown",
      "metadata": {
        "id": "D2n1AFzJ5Rrb"
      },
      "source": [
        "Berechnen Sie, wie wahrscheinlich es ist, dass ein:e Patient:in gestorben ist, wenn bekannt war, dass er/sie raucht. Berechnen Sie auch diese Wahrscheinlichkeit in Abhängigkeit der Geschlechter."
      ]
    },
    {
      "cell_type": "code",
      "metadata": {
        "id": "Qr_e2pqV5RBD"
      },
      "source": [
        "print('Wahrscheinlichkeit von Tod, wenn bekannt, dass Raucher: ', 0)\n",
        "print('Wahrscheinlichkeit von Tod, wenn bekannt, dass männlich und Raucher: ', 0)\n",
        "print('Wahrscheinlichkeit von Tod, wenn bekannt, dass weiblich und Raucher: ', 0)"
      ],
      "execution_count": null,
      "outputs": []
    },
    {
      "cell_type": "markdown",
      "metadata": {
        "id": "36BofbWu5j-r"
      },
      "source": [
        "Überrascht Sie das Ergebnis? Können Sie erklären, wie es zustande kommt?"
      ]
    },
    {
      "cell_type": "code",
      "metadata": {
        "id": "zRYTNu39ajEi"
      },
      "source": [
        "# probieren Sie sich ein bisschen aus!\n"
      ],
      "execution_count": null,
      "outputs": []
    },
    {
      "cell_type": "markdown",
      "metadata": {
        "id": "NBH3jCzu3kaq"
      },
      "source": [
        "Angenommen, Sie wollen wissen, welche der Features gute Prädiktoren für den Tod des/der Patient:in sind. Welche Größen können Sie berechnen, um dafür ein Gefühl zu bekommen? Welche Features würden Sie für eine Prädiktion empfehlen? "
      ]
    },
    {
      "cell_type": "code",
      "metadata": {
        "id": "AQVmzawm4s2M"
      },
      "source": [
        "# probieren Sie sich ein bisschen aus!\n"
      ],
      "execution_count": null,
      "outputs": []
    }
  ]
}
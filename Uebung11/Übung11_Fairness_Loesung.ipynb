{
  "nbformat": 4,
  "nbformat_minor": 0,
  "metadata": {
    "colab": {
      "provenance": [],
      "collapsed_sections": [
        "0TXkJJmCedpp"
      ]
    },
    "kernelspec": {
      "name": "python3",
      "display_name": "Python 3"
    },
    "language_info": {
      "name": "python"
    }
  },
  "cells": [
    {
      "cell_type": "markdown",
      "source": [
        "# Fairness\n",
        "\n",
        "Da wir in der Vorlesung inzwischen bei anwendungsbezogeneren Themen angekommen sind, wollen wir die verbliebenen Übungen nutzen, um Euch etwas freier an Aufgabenstellungen arbeiten zu lassen. Die Konzepte der Vorlesungen sollen dabei als Grundgedanken bei der Auswahl und Implementierung der Algorithmen einfließen. Heute soll es, passend zur Vorlesung, um Fairness gehen.\n",
        "\n",
        "Seit vielen Jahren sind Risk Assessment Tools gebräuchlich in den Gerichten der USA. Sie sollen die Richter bei der Entscheidung über das Strafmaß unterstützen und als neutrale Komponente (ohne Bias) zum Prozess beitragen. Dabei kommt es regelmäßig vor, dass diese Tools maßgeblich die Entscheidung zu Haftdauer und Strafmaß beeinflussen und manchmal sogar die Vorschläge der Jury überstimmen.\n",
        "\n",
        "Die Effektivität und Genauigkeit, sowie die Anwendung dieser Tools ist stark umstritten. Da es in dieser Übung um Fairness gehen soll, gehen wir erst einmal davon aus, dass die Modelle prinzipiell funktionieren und wir wollen uns vor allem auf die Auswirkungen auf einzelne Gruppen konzentrieren.\n",
        "\n",
        "Das Risk Assessment Tool um das es in der Übung gehen soll ist *Correctional Offender Management Profiling for Alternative Sanctions (COMPAS)* vom Hersteller Northpointe. Dieses war 2016 groß in den Schlagzeilen als ProPublica, ein Netzwerk investigativer Journalisten, die Ergebnisse der Risikobewertung für ein County in Florida für die Jahre 2012/2013 unter dem Gesichtspunkt *Racial Bias*, insbesondere schwarze/weiße Amerikaner, untersuchte und zu dem Schluss kam, dass es einen starken Bias gegen schwarze Amerikaner gebe.\n",
        "\n",
        "COMPAS liefert eine Reihe Scores, welche auf 137 Features (Fragen) basieren, die entweder aus Fragebögen der Angeklagten oder der kriminellen Vorgeschichte hervorgehen. Dabei wird *Race* explizit nicht abgefragt.\n",
        "\n",
        "In der Übung betrachten wir den *Decile Score* für \"Risk of Recidivism\" und wie gut dieser eine Rückfälligkeit innerhalb zwei Jahren nach Urteil vorhersagt, sprich ob der Angeklagte eine weitere Straftat im Zeitraum von zwei Jahren begeht (gekennzeichnet mit `two_year_recid`). Mit diesem Label wurde das COMPAS Modell auch trainiert. Der Score kann diskrete Werte von 1 bis 10 annehmen, wobei 1-4 als niedriges, 5-7 als mittleres und 8-10 als hohes Risiko der Rückfälligkeit eingestuft werden.\n",
        "\n",
        "Außerdem gibt es auch den Decile Score für \"Risk of Violence\", welcher entsprechend das Risiko für Gewaltstraftaten angeben soll.\n",
        "\n",
        "In der Übung soll nun also dieses Modell (COMPAS) unter den Fairnesskriterien, welche wir in der Vorlesung behandelt haben, untersucht werden.\n",
        "\n",
        "\n",
        "**Hier noch ein paar Links zu der ProPublica Debatte:**\n",
        "\n",
        "*Disclaimer: Es ist womöglich sinnvoll zuerst die Übung (unvoreingenommen) zu machen und selbst herauszufinden was einem auffällt. Die Übung soll keine politische Stellungname bilden, sondern soll nur die in der Vorlesung dargestellten Kriterien an einem realen und interessanten Beispiel anwenden.*\n",
        "\n",
        "\n",
        "ProPublica Analyse: https://www.propublica.org/article/how-we-analyzed-the-compas-recidivism-algorithm\n",
        "\n",
        "\n",
        "Außerdem sehr interessanter Vortrag zum Thema Fairness, welcher in Teilen auch COMPAS behandelt:\n",
        "\n",
        "https://www.youtube.com/watch?v=p5yY2MyTJXA\n",
        "\n",
        "Kritik an der Analyse von ProPublica gab es unter anderem von [Flores et al]: \"It might be that the existing justice system is biased agains poor minorities due to a wide variety of reasons (including economic factors, policing patterns, prosecutorial behavior, and judicial biases), and therefore, regardless of the degree of bias, risk assessment tools informed by objective data can help *reduce* racial bias from its current level. It would be a shame if policymakers mistakenly thought that risk assessment tools were somehow worse than the status quo. Because we are at a time in history where there appears to be bipartisan political support for criminal justice reform, one poorly executed study that makes such absolute claims of bias should not go unchallenged. The gravity of this study's erroneous conclusions is exacerbated by the large-market outlet in which it was published.\""
      ],
      "metadata": {
        "id": "GpNyCQqfAuPh"
      }
    },
    {
      "cell_type": "markdown",
      "source": [
        "\n",
        "## Aufgaben:\n",
        "Ist der Score noch zu retten? Um das zu klären, gehen wir wie in der Vorlesung vor:\n",
        "\n",
        "1. Frage:  Schaue zuerst die Daten an. Was sind hier geschützte Attribute?\n",
        "\n",
        "2. Frage: Betrachte den Decile Score als den Output des Models (vgl. α in VL) und plotte die Verteilung der Scores in Abhängikeit der 2 Jahres Rückfälligkeit getrennt nach den geschützten Attributen. Prüfe ob der COMPAS Score calibriert ist bezüglich \"Caucasian\"/\"Afican American\". Kannst du Aussagen zur Sufficiency treffen?\n",
        "\n",
        "2. Angenommen wir möchten vorhersagen, ob eine Person ein \"hohes\" Risiko oder \"kein hohes\" Risiko hat rückfällig zu werden. Ist das Kriterium der Independence für die betroffenen Gruppen erfüllt? (Hilfe siehe unten)\n",
        "\n",
        "3. Wie müssen wir den Schwellwert auf den Score für unsere Entscheidung legen um die Vorhersagegenauigkeit zur Rückfälligkeit für Menschen der Gruppen \"Caucasian\" zu maximieren?\n",
        "Wende das Prinzip der Independence an um den Schwellwert für die Gruppe \"African-American\" zu ermitteln.\n",
        "\n",
        "4. Kann das Kriterium der Separation für diese beiden Gruppen erfüllt werden? Unter welchen Vorrausetzungen ist dies der Fall? Nutze die ROC-Kurve dazu. Wie sehen die Thresholds jeweils aus?\n",
        "\n",
        "5. Zurück zur Sufficiency: Ist Sufficency für identische Schwellwerte für beide Gruppen erfüllt? Was passiert, wenn wir Separation fordern und entsprechende Schwellwerte auf den Score wählen? Lassen sich alle drei Kriterien gleichzeitig erfüllen?\n",
        "\n",
        "*Tipp: Du kannst alle Aufgaben durch geschickte Plots beantworten. Außerdem sind unterhalb dieser Aufgabenstellung noch ein paar Hilfestellungen/Erinnerungen verfübar.*\n"
      ],
      "metadata": {
        "id": "0TXkJJmCedpp"
      }
    },
    {
      "cell_type": "markdown",
      "source": [
        "Zuerst importieren wir wieder die Pakete, welche wir für die Übung benötigen. Seaborn ist eine erweiterte API für Matplotlib und ermöglicht einfache und hübsche Plots. Dann importieren wir die Daten und verschaffen uns einen ersten Überblick über die Spalten."
      ],
      "metadata": {
        "id": "Th3k54OnnPuu"
      }
    },
    {
      "cell_type": "code",
      "source": [
        "import pandas as pd\n",
        "import numpy as np\n",
        "import matplotlib.pyplot as plt\n",
        "import seaborn as sns"
      ],
      "metadata": {
        "id": "bz1yjdH2BVwk"
      },
      "execution_count": null,
      "outputs": []
    },
    {
      "cell_type": "markdown",
      "source": [
        "Dann laden wir die Daten von ProPublica"
      ],
      "metadata": {
        "id": "XAPqjw9tTORa"
      }
    },
    {
      "cell_type": "code",
      "source": [
        "url = 'https://raw.githubusercontent.com/propublica/compas-analysis/master/compas-scores-two-years.csv'\n",
        "df = pd.read_csv(url)\n",
        "df.info()"
      ],
      "metadata": {
        "id": "f_uWj3drDSPc"
      },
      "execution_count": null,
      "outputs": []
    },
    {
      "cell_type": "markdown",
      "source": [
        "Als **schützenswerte Attribute** fallen hier relativ schnell \"race\" und \"sex\" auf. Für diese Analyse werden wir uns an der Veröffentlichung von ProPublica orientieren und auf \"race\" beschränken.\n",
        "\n",
        "ProPublica hat sich auf den Vergleich zwischen \"Caucasian\", also weiß gelesenen Menschen und \"African-American\", also schwarz gelesenen Menschen, fokussiert. Bei Inspektion der Daten stellt man schnell fest, dass die anderen Attribute in der Spalte `race`, also \"Hispanic\", \"Native American\", \"Asian\" und \"Other\" nicht oft genug auftauchen, um verlässliche Aussagen zu treffen. Daher werden auch wir nur diese Unterscheidung betrachten und unsere Daten entsprechend filtern:"
      ],
      "metadata": {
        "id": "UXSnEY_6nmhB"
      }
    },
    {
      "cell_type": "code",
      "source": [
        "#ProPublica wendet zusätzlich folgenden Filter an, den wir aber ignorieren:\n",
        "#df = df[(df.days_b_screening_arrest<=30)&(df.days_b_screening_arrest>=-30)]\n",
        "df_focus = df[(df[\"race\"]==\"Caucasian\") | (df[\"race\"]==\"African-American\")]\n",
        "df_focus.shape # wie wir sehen, sind nur 1064 der 7214 Datenpunkte weggefallen"
      ],
      "metadata": {
        "id": "4DZrI8z1uTtE"
      },
      "execution_count": null,
      "outputs": []
    },
    {
      "cell_type": "code",
      "source": [
        "df_focus"
      ],
      "metadata": {
        "colab": {
          "base_uri": "https://localhost:8080/",
          "height": 617
        },
        "id": "SR2lb-DiwZM1",
        "outputId": "028f8a2a-fdc1-481e-b5e4-e154de2e44f5"
      },
      "execution_count": null,
      "outputs": [
        {
          "output_type": "execute_result",
          "data": {
            "text/plain": [
              "         id              name      first     last compas_screening_date  \\\n",
              "1         3       kevon dixon      kevon    dixon            2013-01-27   \n",
              "2         4          ed philo         ed    philo            2013-04-14   \n",
              "3         5       marcu brown      marcu    brown            2013-01-13   \n",
              "6         8     edward riddle     edward   riddle            2014-02-19   \n",
              "8        10  elizabeth thieme  elizabeth   thieme            2014-03-16   \n",
              "...     ...               ...        ...      ...                   ...   \n",
              "7207  10994      jarred payne     jarred    payne            2014-05-10   \n",
              "7208  10995      raheem smith     raheem    smith            2013-10-20   \n",
              "7209  10996     steven butler     steven   butler            2013-11-23   \n",
              "7210  10997   malcolm simmons    malcolm  simmons            2014-02-01   \n",
              "7212  11000       farrah jean     farrah     jean            2014-03-09   \n",
              "\n",
              "         sex         dob  age       age_cat              race  ...  \\\n",
              "1       Male  1982-01-22   34       25 - 45  African-American  ...   \n",
              "2       Male  1991-05-14   24  Less than 25  African-American  ...   \n",
              "3       Male  1993-01-21   23  Less than 25  African-American  ...   \n",
              "6       Male  1974-07-23   41       25 - 45         Caucasian  ...   \n",
              "8     Female  1976-06-03   39       25 - 45         Caucasian  ...   \n",
              "...      ...         ...  ...           ...               ...  ...   \n",
              "7207    Male  1985-07-31   30       25 - 45  African-American  ...   \n",
              "7208    Male  1995-06-28   20  Less than 25  African-American  ...   \n",
              "7209    Male  1992-07-17   23  Less than 25  African-American  ...   \n",
              "7210    Male  1993-03-25   23  Less than 25  African-American  ...   \n",
              "7212  Female  1982-11-17   33       25 - 45  African-American  ...   \n",
              "\n",
              "      v_decile_score  v_score_text  v_screening_date  in_custody  out_custody  \\\n",
              "1                  1           Low        2013-01-27  2013-01-26   2013-02-05   \n",
              "2                  3           Low        2013-04-14  2013-06-16   2013-06-16   \n",
              "3                  6        Medium        2013-01-13         NaN          NaN   \n",
              "6                  2           Low        2014-02-19  2014-03-31   2014-04-18   \n",
              "8                  1           Low        2014-03-16  2014-03-15   2014-03-18   \n",
              "...              ...           ...               ...         ...          ...   \n",
              "7207               2           Low        2014-05-10  2015-10-22   2015-10-22   \n",
              "7208               9          High        2013-10-20  2014-04-07   2014-04-27   \n",
              "7209               5        Medium        2013-11-23  2013-11-22   2013-11-24   \n",
              "7210               5        Medium        2014-02-01  2014-01-31   2014-02-02   \n",
              "7212               2           Low        2014-03-09  2014-03-08   2014-03-09   \n",
              "\n",
              "      priors_count.1 start   end event two_year_recid  \n",
              "1                  0     9   159     1              1  \n",
              "2                  4     0    63     0              1  \n",
              "3                  1     0  1174     0              0  \n",
              "6                 14     5    40     1              1  \n",
              "8                  0     2   747     0              0  \n",
              "...              ...   ...   ...   ...            ...  \n",
              "7207               0     0   529     1              1  \n",
              "7208               0     0   169     0              0  \n",
              "7209               0     1   860     0              0  \n",
              "7210               0     1   790     0              0  \n",
              "7212               3     0   754     0              0  \n",
              "\n",
              "[6150 rows x 53 columns]"
            ],
            "text/html": [
              "\n",
              "  <div id=\"df-8f723db9-8cea-4950-b73b-351defc5bac2\" class=\"colab-df-container\">\n",
              "    <div>\n",
              "<style scoped>\n",
              "    .dataframe tbody tr th:only-of-type {\n",
              "        vertical-align: middle;\n",
              "    }\n",
              "\n",
              "    .dataframe tbody tr th {\n",
              "        vertical-align: top;\n",
              "    }\n",
              "\n",
              "    .dataframe thead th {\n",
              "        text-align: right;\n",
              "    }\n",
              "</style>\n",
              "<table border=\"1\" class=\"dataframe\">\n",
              "  <thead>\n",
              "    <tr style=\"text-align: right;\">\n",
              "      <th></th>\n",
              "      <th>id</th>\n",
              "      <th>name</th>\n",
              "      <th>first</th>\n",
              "      <th>last</th>\n",
              "      <th>compas_screening_date</th>\n",
              "      <th>sex</th>\n",
              "      <th>dob</th>\n",
              "      <th>age</th>\n",
              "      <th>age_cat</th>\n",
              "      <th>race</th>\n",
              "      <th>...</th>\n",
              "      <th>v_decile_score</th>\n",
              "      <th>v_score_text</th>\n",
              "      <th>v_screening_date</th>\n",
              "      <th>in_custody</th>\n",
              "      <th>out_custody</th>\n",
              "      <th>priors_count.1</th>\n",
              "      <th>start</th>\n",
              "      <th>end</th>\n",
              "      <th>event</th>\n",
              "      <th>two_year_recid</th>\n",
              "    </tr>\n",
              "  </thead>\n",
              "  <tbody>\n",
              "    <tr>\n",
              "      <th>1</th>\n",
              "      <td>3</td>\n",
              "      <td>kevon dixon</td>\n",
              "      <td>kevon</td>\n",
              "      <td>dixon</td>\n",
              "      <td>2013-01-27</td>\n",
              "      <td>Male</td>\n",
              "      <td>1982-01-22</td>\n",
              "      <td>34</td>\n",
              "      <td>25 - 45</td>\n",
              "      <td>African-American</td>\n",
              "      <td>...</td>\n",
              "      <td>1</td>\n",
              "      <td>Low</td>\n",
              "      <td>2013-01-27</td>\n",
              "      <td>2013-01-26</td>\n",
              "      <td>2013-02-05</td>\n",
              "      <td>0</td>\n",
              "      <td>9</td>\n",
              "      <td>159</td>\n",
              "      <td>1</td>\n",
              "      <td>1</td>\n",
              "    </tr>\n",
              "    <tr>\n",
              "      <th>2</th>\n",
              "      <td>4</td>\n",
              "      <td>ed philo</td>\n",
              "      <td>ed</td>\n",
              "      <td>philo</td>\n",
              "      <td>2013-04-14</td>\n",
              "      <td>Male</td>\n",
              "      <td>1991-05-14</td>\n",
              "      <td>24</td>\n",
              "      <td>Less than 25</td>\n",
              "      <td>African-American</td>\n",
              "      <td>...</td>\n",
              "      <td>3</td>\n",
              "      <td>Low</td>\n",
              "      <td>2013-04-14</td>\n",
              "      <td>2013-06-16</td>\n",
              "      <td>2013-06-16</td>\n",
              "      <td>4</td>\n",
              "      <td>0</td>\n",
              "      <td>63</td>\n",
              "      <td>0</td>\n",
              "      <td>1</td>\n",
              "    </tr>\n",
              "    <tr>\n",
              "      <th>3</th>\n",
              "      <td>5</td>\n",
              "      <td>marcu brown</td>\n",
              "      <td>marcu</td>\n",
              "      <td>brown</td>\n",
              "      <td>2013-01-13</td>\n",
              "      <td>Male</td>\n",
              "      <td>1993-01-21</td>\n",
              "      <td>23</td>\n",
              "      <td>Less than 25</td>\n",
              "      <td>African-American</td>\n",
              "      <td>...</td>\n",
              "      <td>6</td>\n",
              "      <td>Medium</td>\n",
              "      <td>2013-01-13</td>\n",
              "      <td>NaN</td>\n",
              "      <td>NaN</td>\n",
              "      <td>1</td>\n",
              "      <td>0</td>\n",
              "      <td>1174</td>\n",
              "      <td>0</td>\n",
              "      <td>0</td>\n",
              "    </tr>\n",
              "    <tr>\n",
              "      <th>6</th>\n",
              "      <td>8</td>\n",
              "      <td>edward riddle</td>\n",
              "      <td>edward</td>\n",
              "      <td>riddle</td>\n",
              "      <td>2014-02-19</td>\n",
              "      <td>Male</td>\n",
              "      <td>1974-07-23</td>\n",
              "      <td>41</td>\n",
              "      <td>25 - 45</td>\n",
              "      <td>Caucasian</td>\n",
              "      <td>...</td>\n",
              "      <td>2</td>\n",
              "      <td>Low</td>\n",
              "      <td>2014-02-19</td>\n",
              "      <td>2014-03-31</td>\n",
              "      <td>2014-04-18</td>\n",
              "      <td>14</td>\n",
              "      <td>5</td>\n",
              "      <td>40</td>\n",
              "      <td>1</td>\n",
              "      <td>1</td>\n",
              "    </tr>\n",
              "    <tr>\n",
              "      <th>8</th>\n",
              "      <td>10</td>\n",
              "      <td>elizabeth thieme</td>\n",
              "      <td>elizabeth</td>\n",
              "      <td>thieme</td>\n",
              "      <td>2014-03-16</td>\n",
              "      <td>Female</td>\n",
              "      <td>1976-06-03</td>\n",
              "      <td>39</td>\n",
              "      <td>25 - 45</td>\n",
              "      <td>Caucasian</td>\n",
              "      <td>...</td>\n",
              "      <td>1</td>\n",
              "      <td>Low</td>\n",
              "      <td>2014-03-16</td>\n",
              "      <td>2014-03-15</td>\n",
              "      <td>2014-03-18</td>\n",
              "      <td>0</td>\n",
              "      <td>2</td>\n",
              "      <td>747</td>\n",
              "      <td>0</td>\n",
              "      <td>0</td>\n",
              "    </tr>\n",
              "    <tr>\n",
              "      <th>...</th>\n",
              "      <td>...</td>\n",
              "      <td>...</td>\n",
              "      <td>...</td>\n",
              "      <td>...</td>\n",
              "      <td>...</td>\n",
              "      <td>...</td>\n",
              "      <td>...</td>\n",
              "      <td>...</td>\n",
              "      <td>...</td>\n",
              "      <td>...</td>\n",
              "      <td>...</td>\n",
              "      <td>...</td>\n",
              "      <td>...</td>\n",
              "      <td>...</td>\n",
              "      <td>...</td>\n",
              "      <td>...</td>\n",
              "      <td>...</td>\n",
              "      <td>...</td>\n",
              "      <td>...</td>\n",
              "      <td>...</td>\n",
              "      <td>...</td>\n",
              "    </tr>\n",
              "    <tr>\n",
              "      <th>7207</th>\n",
              "      <td>10994</td>\n",
              "      <td>jarred payne</td>\n",
              "      <td>jarred</td>\n",
              "      <td>payne</td>\n",
              "      <td>2014-05-10</td>\n",
              "      <td>Male</td>\n",
              "      <td>1985-07-31</td>\n",
              "      <td>30</td>\n",
              "      <td>25 - 45</td>\n",
              "      <td>African-American</td>\n",
              "      <td>...</td>\n",
              "      <td>2</td>\n",
              "      <td>Low</td>\n",
              "      <td>2014-05-10</td>\n",
              "      <td>2015-10-22</td>\n",
              "      <td>2015-10-22</td>\n",
              "      <td>0</td>\n",
              "      <td>0</td>\n",
              "      <td>529</td>\n",
              "      <td>1</td>\n",
              "      <td>1</td>\n",
              "    </tr>\n",
              "    <tr>\n",
              "      <th>7208</th>\n",
              "      <td>10995</td>\n",
              "      <td>raheem smith</td>\n",
              "      <td>raheem</td>\n",
              "      <td>smith</td>\n",
              "      <td>2013-10-20</td>\n",
              "      <td>Male</td>\n",
              "      <td>1995-06-28</td>\n",
              "      <td>20</td>\n",
              "      <td>Less than 25</td>\n",
              "      <td>African-American</td>\n",
              "      <td>...</td>\n",
              "      <td>9</td>\n",
              "      <td>High</td>\n",
              "      <td>2013-10-20</td>\n",
              "      <td>2014-04-07</td>\n",
              "      <td>2014-04-27</td>\n",
              "      <td>0</td>\n",
              "      <td>0</td>\n",
              "      <td>169</td>\n",
              "      <td>0</td>\n",
              "      <td>0</td>\n",
              "    </tr>\n",
              "    <tr>\n",
              "      <th>7209</th>\n",
              "      <td>10996</td>\n",
              "      <td>steven butler</td>\n",
              "      <td>steven</td>\n",
              "      <td>butler</td>\n",
              "      <td>2013-11-23</td>\n",
              "      <td>Male</td>\n",
              "      <td>1992-07-17</td>\n",
              "      <td>23</td>\n",
              "      <td>Less than 25</td>\n",
              "      <td>African-American</td>\n",
              "      <td>...</td>\n",
              "      <td>5</td>\n",
              "      <td>Medium</td>\n",
              "      <td>2013-11-23</td>\n",
              "      <td>2013-11-22</td>\n",
              "      <td>2013-11-24</td>\n",
              "      <td>0</td>\n",
              "      <td>1</td>\n",
              "      <td>860</td>\n",
              "      <td>0</td>\n",
              "      <td>0</td>\n",
              "    </tr>\n",
              "    <tr>\n",
              "      <th>7210</th>\n",
              "      <td>10997</td>\n",
              "      <td>malcolm simmons</td>\n",
              "      <td>malcolm</td>\n",
              "      <td>simmons</td>\n",
              "      <td>2014-02-01</td>\n",
              "      <td>Male</td>\n",
              "      <td>1993-03-25</td>\n",
              "      <td>23</td>\n",
              "      <td>Less than 25</td>\n",
              "      <td>African-American</td>\n",
              "      <td>...</td>\n",
              "      <td>5</td>\n",
              "      <td>Medium</td>\n",
              "      <td>2014-02-01</td>\n",
              "      <td>2014-01-31</td>\n",
              "      <td>2014-02-02</td>\n",
              "      <td>0</td>\n",
              "      <td>1</td>\n",
              "      <td>790</td>\n",
              "      <td>0</td>\n",
              "      <td>0</td>\n",
              "    </tr>\n",
              "    <tr>\n",
              "      <th>7212</th>\n",
              "      <td>11000</td>\n",
              "      <td>farrah jean</td>\n",
              "      <td>farrah</td>\n",
              "      <td>jean</td>\n",
              "      <td>2014-03-09</td>\n",
              "      <td>Female</td>\n",
              "      <td>1982-11-17</td>\n",
              "      <td>33</td>\n",
              "      <td>25 - 45</td>\n",
              "      <td>African-American</td>\n",
              "      <td>...</td>\n",
              "      <td>2</td>\n",
              "      <td>Low</td>\n",
              "      <td>2014-03-09</td>\n",
              "      <td>2014-03-08</td>\n",
              "      <td>2014-03-09</td>\n",
              "      <td>3</td>\n",
              "      <td>0</td>\n",
              "      <td>754</td>\n",
              "      <td>0</td>\n",
              "      <td>0</td>\n",
              "    </tr>\n",
              "  </tbody>\n",
              "</table>\n",
              "<p>6150 rows × 53 columns</p>\n",
              "</div>\n",
              "    <div class=\"colab-df-buttons\">\n",
              "\n",
              "  <div class=\"colab-df-container\">\n",
              "    <button class=\"colab-df-convert\" onclick=\"convertToInteractive('df-8f723db9-8cea-4950-b73b-351defc5bac2')\"\n",
              "            title=\"Convert this dataframe to an interactive table.\"\n",
              "            style=\"display:none;\">\n",
              "\n",
              "  <svg xmlns=\"http://www.w3.org/2000/svg\" height=\"24px\" viewBox=\"0 -960 960 960\">\n",
              "    <path d=\"M120-120v-720h720v720H120Zm60-500h600v-160H180v160Zm220 220h160v-160H400v160Zm0 220h160v-160H400v160ZM180-400h160v-160H180v160Zm440 0h160v-160H620v160ZM180-180h160v-160H180v160Zm440 0h160v-160H620v160Z\"/>\n",
              "  </svg>\n",
              "    </button>\n",
              "\n",
              "  <style>\n",
              "    .colab-df-container {\n",
              "      display:flex;\n",
              "      gap: 12px;\n",
              "    }\n",
              "\n",
              "    .colab-df-convert {\n",
              "      background-color: #E8F0FE;\n",
              "      border: none;\n",
              "      border-radius: 50%;\n",
              "      cursor: pointer;\n",
              "      display: none;\n",
              "      fill: #1967D2;\n",
              "      height: 32px;\n",
              "      padding: 0 0 0 0;\n",
              "      width: 32px;\n",
              "    }\n",
              "\n",
              "    .colab-df-convert:hover {\n",
              "      background-color: #E2EBFA;\n",
              "      box-shadow: 0px 1px 2px rgba(60, 64, 67, 0.3), 0px 1px 3px 1px rgba(60, 64, 67, 0.15);\n",
              "      fill: #174EA6;\n",
              "    }\n",
              "\n",
              "    .colab-df-buttons div {\n",
              "      margin-bottom: 4px;\n",
              "    }\n",
              "\n",
              "    [theme=dark] .colab-df-convert {\n",
              "      background-color: #3B4455;\n",
              "      fill: #D2E3FC;\n",
              "    }\n",
              "\n",
              "    [theme=dark] .colab-df-convert:hover {\n",
              "      background-color: #434B5C;\n",
              "      box-shadow: 0px 1px 3px 1px rgba(0, 0, 0, 0.15);\n",
              "      filter: drop-shadow(0px 1px 2px rgba(0, 0, 0, 0.3));\n",
              "      fill: #FFFFFF;\n",
              "    }\n",
              "  </style>\n",
              "\n",
              "    <script>\n",
              "      const buttonEl =\n",
              "        document.querySelector('#df-8f723db9-8cea-4950-b73b-351defc5bac2 button.colab-df-convert');\n",
              "      buttonEl.style.display =\n",
              "        google.colab.kernel.accessAllowed ? 'block' : 'none';\n",
              "\n",
              "      async function convertToInteractive(key) {\n",
              "        const element = document.querySelector('#df-8f723db9-8cea-4950-b73b-351defc5bac2');\n",
              "        const dataTable =\n",
              "          await google.colab.kernel.invokeFunction('convertToInteractive',\n",
              "                                                    [key], {});\n",
              "        if (!dataTable) return;\n",
              "\n",
              "        const docLinkHtml = 'Like what you see? Visit the ' +\n",
              "          '<a target=\"_blank\" href=https://colab.research.google.com/notebooks/data_table.ipynb>data table notebook</a>'\n",
              "          + ' to learn more about interactive tables.';\n",
              "        element.innerHTML = '';\n",
              "        dataTable['output_type'] = 'display_data';\n",
              "        await google.colab.output.renderOutput(dataTable, element);\n",
              "        const docLink = document.createElement('div');\n",
              "        docLink.innerHTML = docLinkHtml;\n",
              "        element.appendChild(docLink);\n",
              "      }\n",
              "    </script>\n",
              "  </div>\n",
              "\n",
              "\n",
              "<div id=\"df-2710f7bb-6ffe-42f1-b989-741e3f8141c3\">\n",
              "  <button class=\"colab-df-quickchart\" onclick=\"quickchart('df-2710f7bb-6ffe-42f1-b989-741e3f8141c3')\"\n",
              "            title=\"Suggest charts\"\n",
              "            style=\"display:none;\">\n",
              "\n",
              "<svg xmlns=\"http://www.w3.org/2000/svg\" height=\"24px\"viewBox=\"0 0 24 24\"\n",
              "     width=\"24px\">\n",
              "    <g>\n",
              "        <path d=\"M19 3H5c-1.1 0-2 .9-2 2v14c0 1.1.9 2 2 2h14c1.1 0 2-.9 2-2V5c0-1.1-.9-2-2-2zM9 17H7v-7h2v7zm4 0h-2V7h2v10zm4 0h-2v-4h2v4z\"/>\n",
              "    </g>\n",
              "</svg>\n",
              "  </button>\n",
              "\n",
              "<style>\n",
              "  .colab-df-quickchart {\n",
              "      --bg-color: #E8F0FE;\n",
              "      --fill-color: #1967D2;\n",
              "      --hover-bg-color: #E2EBFA;\n",
              "      --hover-fill-color: #174EA6;\n",
              "      --disabled-fill-color: #AAA;\n",
              "      --disabled-bg-color: #DDD;\n",
              "  }\n",
              "\n",
              "  [theme=dark] .colab-df-quickchart {\n",
              "      --bg-color: #3B4455;\n",
              "      --fill-color: #D2E3FC;\n",
              "      --hover-bg-color: #434B5C;\n",
              "      --hover-fill-color: #FFFFFF;\n",
              "      --disabled-bg-color: #3B4455;\n",
              "      --disabled-fill-color: #666;\n",
              "  }\n",
              "\n",
              "  .colab-df-quickchart {\n",
              "    background-color: var(--bg-color);\n",
              "    border: none;\n",
              "    border-radius: 50%;\n",
              "    cursor: pointer;\n",
              "    display: none;\n",
              "    fill: var(--fill-color);\n",
              "    height: 32px;\n",
              "    padding: 0;\n",
              "    width: 32px;\n",
              "  }\n",
              "\n",
              "  .colab-df-quickchart:hover {\n",
              "    background-color: var(--hover-bg-color);\n",
              "    box-shadow: 0 1px 2px rgba(60, 64, 67, 0.3), 0 1px 3px 1px rgba(60, 64, 67, 0.15);\n",
              "    fill: var(--button-hover-fill-color);\n",
              "  }\n",
              "\n",
              "  .colab-df-quickchart-complete:disabled,\n",
              "  .colab-df-quickchart-complete:disabled:hover {\n",
              "    background-color: var(--disabled-bg-color);\n",
              "    fill: var(--disabled-fill-color);\n",
              "    box-shadow: none;\n",
              "  }\n",
              "\n",
              "  .colab-df-spinner {\n",
              "    border: 2px solid var(--fill-color);\n",
              "    border-color: transparent;\n",
              "    border-bottom-color: var(--fill-color);\n",
              "    animation:\n",
              "      spin 1s steps(1) infinite;\n",
              "  }\n",
              "\n",
              "  @keyframes spin {\n",
              "    0% {\n",
              "      border-color: transparent;\n",
              "      border-bottom-color: var(--fill-color);\n",
              "      border-left-color: var(--fill-color);\n",
              "    }\n",
              "    20% {\n",
              "      border-color: transparent;\n",
              "      border-left-color: var(--fill-color);\n",
              "      border-top-color: var(--fill-color);\n",
              "    }\n",
              "    30% {\n",
              "      border-color: transparent;\n",
              "      border-left-color: var(--fill-color);\n",
              "      border-top-color: var(--fill-color);\n",
              "      border-right-color: var(--fill-color);\n",
              "    }\n",
              "    40% {\n",
              "      border-color: transparent;\n",
              "      border-right-color: var(--fill-color);\n",
              "      border-top-color: var(--fill-color);\n",
              "    }\n",
              "    60% {\n",
              "      border-color: transparent;\n",
              "      border-right-color: var(--fill-color);\n",
              "    }\n",
              "    80% {\n",
              "      border-color: transparent;\n",
              "      border-right-color: var(--fill-color);\n",
              "      border-bottom-color: var(--fill-color);\n",
              "    }\n",
              "    90% {\n",
              "      border-color: transparent;\n",
              "      border-bottom-color: var(--fill-color);\n",
              "    }\n",
              "  }\n",
              "</style>\n",
              "\n",
              "  <script>\n",
              "    async function quickchart(key) {\n",
              "      const quickchartButtonEl =\n",
              "        document.querySelector('#' + key + ' button');\n",
              "      quickchartButtonEl.disabled = true;  // To prevent multiple clicks.\n",
              "      quickchartButtonEl.classList.add('colab-df-spinner');\n",
              "      try {\n",
              "        const charts = await google.colab.kernel.invokeFunction(\n",
              "            'suggestCharts', [key], {});\n",
              "      } catch (error) {\n",
              "        console.error('Error during call to suggestCharts:', error);\n",
              "      }\n",
              "      quickchartButtonEl.classList.remove('colab-df-spinner');\n",
              "      quickchartButtonEl.classList.add('colab-df-quickchart-complete');\n",
              "    }\n",
              "    (() => {\n",
              "      let quickchartButtonEl =\n",
              "        document.querySelector('#df-2710f7bb-6ffe-42f1-b989-741e3f8141c3 button');\n",
              "      quickchartButtonEl.style.display =\n",
              "        google.colab.kernel.accessAllowed ? 'block' : 'none';\n",
              "    })();\n",
              "  </script>\n",
              "</div>\n",
              "    </div>\n",
              "  </div>\n"
            ]
          },
          "metadata": {},
          "execution_count": 4
        }
      ]
    },
    {
      "cell_type": "markdown",
      "source": [
        "Als nächstes wollen wir die Verteilung der Scores in Anhängigkeit der Attribute und der 2 Jahres Rückfälligkeit (also der Zielgröße) plotten. Mit diesen Verteilungen können wir auch gleich das Kriterium der **Calibration** überprüfen."
      ],
      "metadata": {
        "id": "HmpolkO_RHfn"
      }
    },
    {
      "cell_type": "code",
      "source": [
        "df_calib = pd.DataFrame(columns=['race','decile_score','relative_recidivism','group_score_probability'])\n",
        "# Abhängigkeit des geschützten Attributes 'race':\n",
        "for r in df_focus['race'].unique():\n",
        "  _df = df_focus[(df.race==r)]\n",
        "  # Iteration über Scores\n",
        "  for s in np.sort(df_focus['decile_score'].unique()):\n",
        "      # Folgende Größe gibt an, wie groß der Anteil an Leuten ist, die rückfällig geworden sind (wird für jeden Score neu berechnet)\n",
        "      rel = np.divide(_df[(_df.decile_score==s)&(_df.two_year_recid==1)].shape[0],_df[(_df.decile_score==s)].shape[0])\n",
        "      # Folgende Größe gibt an, wie groß der Anteil an Leuten ist, die diesen oder einen höheren Score zugewisen bekommen haben\n",
        "      gprob = np.divide(_df[(_df.decile_score>=s)].shape[0],_df.shape[0])\n",
        "\n",
        "      df_calib=df_calib.append({'race':r,'decile_score':s,'relative_recidivism':rel,'group_score_probability':gprob},ignore_index=True)\n",
        "\n",
        "# Berechnung derselben Größen, wenn nicht nach 'race' unterteil wird:\n",
        "for s in np.sort(df_focus['decile_score'].unique()):\n",
        "    rel = np.divide(df_focus[(df_focus.decile_score==s)&(df_focus.two_year_recid==1)].shape[0],df[(df.decile_score==s)].shape[0])\n",
        "    gprob = np.divide(df_focus[(df.decile_score>=s)].shape[0],df_focus.shape[0])\n",
        "    df_calib=df_calib.append({'race':'-','decile_score':s,'relative_recidivism':rel,'group_score_probability':gprob},ignore_index=True)"
      ],
      "metadata": {
        "id": "bfynSc5ozYdm"
      },
      "execution_count": null,
      "outputs": []
    },
    {
      "cell_type": "markdown",
      "source": [
        "Damit Calibration erfüllt ist, müssen folgende Plots Ursprungsgraden sein:"
      ],
      "metadata": {
        "id": "R4ewH9CvtKcL"
      }
    },
    {
      "cell_type": "code",
      "source": [
        "g = sns.FacetGrid(df_calib, col=\"race\", margin_titles=True)\n",
        "g.map(sns.regplot, \"decile_score\", \"relative_recidivism\", color=\".3\", fit_reg=False)"
      ],
      "metadata": {
        "colab": {
          "base_uri": "https://localhost:8080/",
          "height": 324
        },
        "id": "vJXLXYp5yXvw",
        "outputId": "1dedabde-0c6a-4506-de5d-782db73e8782"
      },
      "execution_count": null,
      "outputs": [
        {
          "output_type": "execute_result",
          "data": {
            "text/plain": [
              "<seaborn.axisgrid.FacetGrid at 0x7c692fba7d90>"
            ]
          },
          "metadata": {},
          "execution_count": 9
        },
        {
          "output_type": "display_data",
          "data": {
            "text/plain": [
              "<Figure size 900x300 with 3 Axes>"
            ],
            "image/png": "[encoded data removed]"
          },
          "metadata": {}
        }
      ]
    },
    {
      "cell_type": "markdown",
      "source": [
        "Hier werden die beiden Plots nochmal übereinander gelegt:"
      ],
      "metadata": {
        "id": "Ha8aWZ8QUGKw"
      }
    },
    {
      "cell_type": "code",
      "source": [
        "sns.regplot(x=\"decile_score\",y=\"relative_recidivism\",data=df_calib[(df_calib.race==\"African-American\")],fit_reg=False,label=\"African-American\")\n",
        "sns.regplot(x=\"decile_score\",y=\"relative_recidivism\",data=df_calib[(df_calib.race==\"Caucasian\")],fit_reg=False,label=\"Caucasian\")\n",
        "plt.legend()"
      ],
      "metadata": {
        "colab": {
          "base_uri": "https://localhost:8080/",
          "height": 467
        },
        "id": "8itjqUxp9qn1",
        "outputId": "ac2c8ca8-fbed-47a1-f277-045239bd30f1"
      },
      "execution_count": null,
      "outputs": [
        {
          "output_type": "execute_result",
          "data": {
            "text/plain": [
              "<matplotlib.legend.Legend at 0x7c693044a530>"
            ]
          },
          "metadata": {},
          "execution_count": 10
        },
        {
          "output_type": "display_data",
          "data": {
            "text/plain": [
              "<Figure size 640x480 with 1 Axes>"
            ],
            "image/png": "[encoded data removed]"
          },
          "metadata": {}
        }
      ]
    },
    {
      "cell_type": "markdown",
      "source": [
        "Eine Calibrations des Scores ist also annähernd gegeben! Aber: Wie wir aus der VL wissen, geht diese Calibration bei einer Binarisierung verloren und wir können keine Aussagen über das Kriterium der **Sufficiency** treffen.  "
      ],
      "metadata": {
        "id": "LMDx88bHTR-4"
      }
    },
    {
      "cell_type": "markdown",
      "source": [
        "Wenn wir also, wie in Aufgabe 1 gefordert, unterscheiden wollen, ob eine Person ein \"hohes Risiko\" oder \"kein hohes Risiko\" hat, rückfällig zu werden, bringt uns dieser Plot nicht viel. Wir werden später noch auf Sufficiency zurück kommen."
      ],
      "metadata": {
        "id": "H7Xb4ZbmiUPq"
      }
    },
    {
      "cell_type": "markdown",
      "source": [
        "Als nächstes wollen wir uns, wie von Aufgabe 2 gefordert, damit beschäftigen, ob **Independence**, also Unabhängigkeit, gegeben ist, wenn wir unterscheiden wollen, ob eine Person ein \"hohes Risiko\" oder \"kein hohes Risiko\" hat, rückfällig zu werden, Zur Erinnerung: Dafür muss gelten, dass die Wahrscheinlichkeit als rückfallgefährdet eingestuft zu werden, für beide Gruppen gleich ist: $P(\\tilde{r}=1|\\text{Gruppe}=\\text{\"Caucasian\"}) \\overset{!}{=} P(\\tilde{r}=1|\\text{Gruppe}=\\text{\"African-American\"})$\n",
        "\n",
        "Wir können auch dieses Kriteriums graphisch überprüfen. Wir plotten dafür auf der x-Achse den Score und auf der y-Achse den berechneten Anteil an Leuten, die diesen oder einen höheren Score zugewisen bekommen haben:"
      ],
      "metadata": {
        "id": "A9FyZ0DylC6Y"
      }
    },
    {
      "cell_type": "code",
      "source": [
        "sns.regplot(x=\"decile_score\",y=\"group_score_probability\",data=df_calib[(df_calib.race==\"African-American\")],fit_reg=False,label=\"African-American\")\n",
        "sns.regplot(x=\"decile_score\",y=\"group_score_probability\",data=df_calib[(df_calib.race==\"Caucasian\")],fit_reg=False,label=\"Caucasian\")\n",
        "plt.legend()"
      ],
      "metadata": {
        "colab": {
          "base_uri": "https://localhost:8080/",
          "height": 467
        },
        "id": "V7wApKwOkSA9",
        "outputId": "723a0e56-c912-43d3-ca39-b436a1c26aa8"
      },
      "execution_count": null,
      "outputs": [
        {
          "output_type": "execute_result",
          "data": {
            "text/plain": [
              "<matplotlib.legend.Legend at 0x7c692f2839a0>"
            ]
          },
          "metadata": {},
          "execution_count": 11
        },
        {
          "output_type": "display_data",
          "data": {
            "text/plain": [
              "<Figure size 640x480 with 1 Axes>"
            ],
            "image/png": "[encoded data removed]"
          },
          "metadata": {}
        }
      ]
    },
    {
      "cell_type": "markdown",
      "source": [
        "Um Independence zu gewährleisten, müssten also African-Americans erst ab einem 2 Punkte höheren Score als rückfallgefährdet eingestuft werden!"
      ],
      "metadata": {
        "id": "XMWUWOHBkreL"
      }
    },
    {
      "cell_type": "markdown",
      "source": [
        "Für die restlichen Fragen binarisieren wir den Output in `0` für \"niedriges Risiko\" und `1` für \"hohes Risiko\" und definieren uns eine Funktion, die uns alle handelsüblichen Gütekriterien für Klassifikatoren abhängig vom Klassifikationsschwellwert ausgibt:"
      ],
      "metadata": {
        "id": "4V_QFHdhYxwY"
      }
    },
    {
      "cell_type": "code",
      "source": [
        "# group_f = [\"race\"]\n",
        "# score_text2_class = {\"Low\":0,\"Medium\":1,\"High\":1}\n",
        "\n",
        "from sklearn.metrics import classification_report\n",
        "from sklearn.metrics import confusion_matrix\n",
        "\n",
        "r_tilde_cauc = df_focus[df_focus.race==\"Caucasian\"][\"decile_score\"].to_numpy()\n",
        "r_tilde_afr = df_focus[df_focus.race==\"African-American\"][\"decile_score\"].to_numpy()\n",
        "r_cauc = df_focus[df_focus.race==\"Caucasian\"][\"two_year_recid\"].to_numpy()\n",
        "r_afr = df_focus[df_focus.race==\"African-American\"][\"two_year_recid\"].to_numpy()\n",
        "\n",
        "def print_stats(conf,group):\n",
        "  #conf = [tn, fp; fn, tp]\n",
        "  print(group)\n",
        "  accuracy=(conf[0,0]+conf[1,1])/conf.sum()\n",
        "  tpr = (conf[1,1])/(conf[1,0]+conf[1,1])\n",
        "  fpr = (conf[0,1])/(conf[0,0]+conf[0,1])\n",
        "  tnr = (conf[0,0])/(conf[0,1]+conf[0,0])\n",
        "  fnr = (conf[1,0])/(conf[1,1]+conf[1,0])\n",
        "  ppv= (conf[1,1])/(conf[0,1]+conf[1,1])\n",
        "  npv=(conf[0,0])/(conf[0,0]+conf[1,0])\n",
        "  probability_pred_revicid = (conf[0,1]+conf[1,1])/conf.sum()\n",
        "  f1 = 2*conf[1,1]/(2*conf[1,1]+conf[0,1]+conf[1,0])\n",
        "\n",
        "  print(\"-------------------------------\")\n",
        "  print(\"Accuracy: \", f\"{accuracy:.4f}\")\n",
        "  print(\"True Positive Rate: \", f\"{tpr:.4f}\")\n",
        "  print(\"False Positive Rate: \", f\"{fpr:.4f}\")\n",
        "  #print(\"True Negative Rate: \", f\"{tnr:.4f}\")\n",
        "  #print(\"False Negative Rate: \", f\"{fnr:.4f}\")\n",
        "  print(\"PPV/Precision: \", f\"{ppv:.4f}\")\n",
        "  print(\"NPV: \", f\"{npv:.4f}\")\n",
        "  print(\"Probability of Predicted Revicidism: \", f\"{probability_pred_revicid:.4f}\")\n",
        "  #print(\"F1-Score: \", f\"{f1:.4f}\")\n",
        "  print(\"-------------------------------\")\n",
        "  return accuracy,tpr,fpr,ppv,npv,probability_pred_revicid"
      ],
      "metadata": {
        "id": "i4UeabIj9mig"
      },
      "execution_count": null,
      "outputs": []
    },
    {
      "cell_type": "markdown",
      "source": [
        "Für Aufgabe 3 wollen wir jetzt den Schwellwert für die Gruppe \"Caucasian\" $\\alpha_{cauc}$ so finden, dass die Vorhersagegenauigkeit zur Rückfälligkeit für Menschen der Gruppen \"Caucasian\" maximiert wird. Durch ausprobieren finden wir $\\alpha_{cauc}=6$, was zu einer Accuracy von $0.6777$ führt. Um Independence zu erreichen, muss der Schwellwert für die Gruppe \"African-Amercian\" $\\alpha_{aa}$ also bei $8$ liegen."
      ],
      "metadata": {
        "id": "PZW9JAhMaU3I"
      }
    },
    {
      "cell_type": "code",
      "source": [
        "alpha_cauc = 6\n",
        "alpha_aa = alpha_cauc+2 # Diesen Zusammenhang wissen wir aus dem letzten Plot\n",
        "conf_cauc_compas = confusion_matrix(r_cauc,r_tilde_cauc>=alpha_cauc)\n",
        "conf_afr_compas = confusion_matrix(r_afr,r_tilde_afr>=alpha_aa)\n",
        "acc_cauc = print_stats(conf_cauc_compas,\"Caucasian\")[0]\n",
        "acc_afr = print_stats(conf_afr_compas,\"African-American\")[0]\n",
        "\n",
        "print(f'Mean accuracy: {(acc_afr*len(r_afr)+acc_cauc*len(r_cauc))/(len(r_afr)+len(r_cauc))}')"
      ],
      "metadata": {
        "colab": {
          "base_uri": "https://localhost:8080/"
        },
        "id": "FSZTMWv-bsWw",
        "outputId": "460144e9-ff76-40c9-8e7a-89a01c7e4ad8"
      },
      "execution_count": null,
      "outputs": [
        {
          "output_type": "stream",
          "name": "stdout",
          "text": [
            "Caucasian\n",
            "-------------------------------\n",
            "Accuracy:  0.6777\n",
            "True Positive Rate:  0.4079\n",
            "False Positive Rate:  0.1472\n",
            "PPV/Precision:  0.6427\n",
            "NPV:  0.6893\n",
            "Probability of Predicted Revicidism:  0.2498\n",
            "-------------------------------\n",
            "African-American\n",
            "-------------------------------\n",
            "Accuracy:  0.6093\n",
            "True Positive Rate:  0.3898\n",
            "False Positive Rate:  0.1582\n",
            "PPV/Precision:  0.7229\n",
            "NPV:  0.5657\n",
            "Probability of Predicted Revicidism:  0.2773\n",
            "-------------------------------\n",
            "Mean accuracy: 0.6365853658536585\n"
          ]
        }
      ]
    },
    {
      "cell_type": "markdown",
      "source": [
        "**Separation**, wie in Aufgabe 4 gefordert, ist wiederum erreicht, wenn TPR und FPR für beide Gruppen gleich sind. Mithilfe der ROC-Curve können wir feststellen, dass dieses Maximum bei einer TPR von ca. $0.65$ und einer FPR von ca. $0.35$ liegen muss:"
      ],
      "metadata": {
        "id": "X2cK2IGNcpmf"
      }
    },
    {
      "cell_type": "code",
      "source": [
        "from sklearn import metrics\n",
        "\n",
        "fpr_cauc, tpr_cauc, thresholds_cauc = metrics.roc_curve(r_cauc, r_tilde_cauc)\n",
        "fpr_afr, tpr_afr, thresholds_afr = metrics.roc_curve(r_afr, r_tilde_afr)\n",
        "\n",
        "plt.figure()\n",
        "lw = 2\n",
        "plt.plot(fpr_cauc, tpr_cauc, color=\"darkorange\", lw=lw, label=\"Caucasian\")\n",
        "plt.plot(fpr_afr, tpr_afr, color=\"black\", lw=lw, label=\"African-American\")\n",
        "\n",
        "plt.plot([0, 1], [0, 1], color=\"navy\", lw=lw, linestyle=\"--\")\n",
        "plt.xlim([0.0, 1.0])\n",
        "plt.ylim([0.0, 1.05])\n",
        "plt.xlabel(\"False Positive Rate\")\n",
        "plt.ylabel(\"True Positive Rate\")\n",
        "plt.title(\"Receiver operating characteristic example\")\n",
        "plt.legend(loc=\"lower right\")\n",
        "plt.show()"
      ],
      "metadata": {
        "colab": {
          "base_uri": "https://localhost:8080/",
          "height": 472
        },
        "id": "1_Wso5sieo_W",
        "outputId": "e9aabf26-793e-4ecb-fb17-ec348bc15a01"
      },
      "execution_count": null,
      "outputs": [
        {
          "output_type": "display_data",
          "data": {
            "text/plain": [
              "<Figure size 640x480 with 1 Axes>"
            ],
            "image/png": "[encoded data removed]"
          },
          "metadata": {}
        }
      ]
    },
    {
      "cell_type": "markdown",
      "source": [
        "Diese Werte sind mit identischen Schwellwerten nicht erreichbar. Durch Ausprobieren stellen wir fest, dass $\\alpha_{cauc}=4$ und $\\alpha_{aa}=6$ mit ausreichender Genauigkeit zu diesen Werten führen. Im Vergleich zu vorhin ist allerdings die Gesamtaccuracy gesunken.\n",
        "\n",
        "**Hinweis:** Die beiden ROC-Curves haben zwei weitere Schnittpunkte: Die Trivialfälle, bei den der Schwellwert bei 0 bzw. 11 liegt. Auch dann wäre Separation gegeben."
      ],
      "metadata": {
        "id": "9cfML4E-hFvX"
      }
    },
    {
      "cell_type": "code",
      "source": [
        "alpha_cauc = 4\n",
        "alpha_aa = 6\n",
        "conf_cauc_compas = confusion_matrix(r_cauc,r_tilde_cauc>=alpha_cauc)\n",
        "conf_afr_compas = confusion_matrix(r_afr,r_tilde_afr>=alpha_aa)\n",
        "acc_cauc = print_stats(conf_cauc_compas,\"Caucasian\")[0]\n",
        "acc_afr = print_stats(conf_afr_compas,\"African-American\")[0]\n",
        "\n",
        "print(f'Mean accuracy: {(acc_afr*len(r_afr)+acc_cauc*len(r_cauc))/(len(r_afr)+len(r_cauc))}')"
      ],
      "metadata": {
        "colab": {
          "base_uri": "https://localhost:8080/"
        },
        "id": "kZnQYP-nCHce",
        "outputId": "d0cb44dc-12d1-4dc8-c205-6a331947e02d"
      },
      "execution_count": null,
      "outputs": [
        {
          "output_type": "stream",
          "name": "stdout",
          "text": [
            "Caucasian\n",
            "-------------------------------\n",
            "Accuracy:  0.6459\n",
            "True Positive Rate:  0.6398\n",
            "False Positive Rate:  0.3501\n",
            "PPV/Precision:  0.5426\n",
            "NPV:  0.7354\n",
            "Probability of Predicted Revicidism:  0.4641\n",
            "-------------------------------\n",
            "African-American\n",
            "-------------------------------\n",
            "Accuracy:  0.6418\n",
            "True Positive Rate:  0.6276\n",
            "False Positive Rate:  0.3432\n",
            "PPV/Precision:  0.6595\n",
            "NPV:  0.6248\n",
            "Probability of Predicted Revicidism:  0.4894\n",
            "-------------------------------\n",
            "Mean accuracy: 0.6434146341463415\n"
          ]
        }
      ]
    },
    {
      "cell_type": "markdown",
      "source": [
        "Kommen wir zurück zu **Sufficiency**: Diese ist erreicht, wenn PPV für beide Gruppen etwa gleich ist. Das ist für identische Schwellwerte gegeben. Wenn wir  außerdem die Gesamt-Accuracy maximieren wollen, wählen wir $\\alpha_{cauc}=\\alpha_{aa}=6$:\n",
        "\n"
      ],
      "metadata": {
        "id": "Tvopc-UXiQ7y"
      }
    },
    {
      "cell_type": "code",
      "source": [
        "alpha_cauc = 6\n",
        "alpha_aa = 6\n",
        "conf_cauc_compas = confusion_matrix(r_cauc,r_tilde_cauc>=alpha_cauc)\n",
        "conf_afr_compas = confusion_matrix(r_afr,r_tilde_afr>=alpha_aa)\n",
        "acc_cauc = print_stats(conf_cauc_compas,\"Caucasian\")[0]\n",
        "acc_afr = print_stats(conf_afr_compas,\"African-American\")[0]\n",
        "\n",
        "print(f'Mean accuracy: {(acc_afr*len(r_afr)+acc_cauc*len(r_cauc))/(len(r_afr)+len(r_cauc))}')"
      ],
      "metadata": {
        "colab": {
          "base_uri": "https://localhost:8080/"
        },
        "id": "GWZO_xsDePVu",
        "outputId": "f5c66777-1c38-4f81-e20b-64d28f14757a"
      },
      "execution_count": null,
      "outputs": [
        {
          "output_type": "stream",
          "name": "stdout",
          "text": [
            "Caucasian\n",
            "-------------------------------\n",
            "Accuracy:  0.6777\n",
            "True Positive Rate:  0.4079\n",
            "False Positive Rate:  0.1472\n",
            "PPV/Precision:  0.6427\n",
            "NPV:  0.6893\n",
            "Probability of Predicted Revicidism:  0.2498\n",
            "-------------------------------\n",
            "African-American\n",
            "-------------------------------\n",
            "Accuracy:  0.6418\n",
            "True Positive Rate:  0.6276\n",
            "False Positive Rate:  0.3432\n",
            "PPV/Precision:  0.6595\n",
            "NPV:  0.6248\n",
            "Probability of Predicted Revicidism:  0.4894\n",
            "-------------------------------\n",
            "Mean accuracy: 0.6560975609756098\n"
          ]
        }
      ]
    },
    {
      "cell_type": "markdown",
      "source": [
        "Wie schon in der Vorlesung angesprochen, ist es quasi unmöglich, alle Definitionen von Fairness gleichzeitig zu erfüllen. In unserem Einzelfall schaffen wir es mit $\\alpha_{cauc}=4$ und $\\alpha_{aa}=6$ zumindest Separation und Independence abzudecken. Dann können wir allerdings keine Sufficiency gewährleisten. Unterschiedliche Definitionen von Fairness sind auch ein Grund für die verschiedenen Interpretationen der ProPublica-Studie:"
      ],
      "metadata": {
        "id": "iSAf2H22d7Lz"
      }
    },
    {
      "cell_type": "markdown",
      "source": [
        "\"*Specifically, it is (by COMPAS creator) argued that the COMPAS score is not biased against blacks because the likelihood of recidivism among high-risk offenders is the same regardless of race (predictive parity), it can discriminate between recidivists and nonrecidivists equally well for white and black defendants as measured with the area under the curve of the receiver operating characteristic, AUC-ROC (accuracy equity), and the likelihood of recidivism for any given score is the same regardless of race (calibration). The disagreement amounts to **different definitions of fairness**. In an eloquent editorial, Corbett-Davies et al. (6) explain that it is impossible to simultaneously satisfy all of these definitions of fairness because black defendants have a higher overall recidivism rate (in the Broward County data set, black defendants recidivate at a rate of 51% as compared with 39% for white defendants, similar to the national averages).*\" - The accuracy, fairness, and limits of predicting recidivism, Dressel et al"
      ],
      "metadata": {
        "id": "sch6M3hjzOkk"
      }
    }
  ]
}